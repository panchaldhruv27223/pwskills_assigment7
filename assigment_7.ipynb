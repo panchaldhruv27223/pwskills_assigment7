{
 "cells": [
  {
   "cell_type": "code",
   "execution_count": 1,
   "id": "8a3f4123",
   "metadata": {},
   "outputs": [],
   "source": [
    "#  Create a function which will take a list as an argument and return the product of all the numbers \n",
    "# after creating a flat list.\n",
    "# Use the below-given list as an argument for your function.\n",
    "# list1 = [1,2,3,4, [44,55,66, True], False, (34,56,78,89,34), {1,2,3,3,2,1}, {1:34, \"key2\": [55, 67, 78, 89], 4: (45, \n",
    "# 22, 61, 34)}, [56, 'data science'], 'Machine Learning']\n",
    "\n",
    "\n",
    "# Note: you must extract numeric keys and values of the dictionary also."
   ]
  },
  {
   "cell_type": "code",
   "execution_count": 2,
   "id": "fda7819f",
   "metadata": {},
   "outputs": [],
   "source": [
    "def mul(l1):\n",
    "    m = 1\n",
    "    l = l1\n",
    "    \n",
    "    for i in range(len(l)):\n",
    "        if type(l[i])==int:\n",
    "            m = m *l[i]\n",
    "            \n",
    "        if type(l[i])==list:\n",
    "            k = l[i]\n",
    "            for j in range(len(k)):\n",
    "                if type(k[j]) == int:\n",
    "                    m = m*k[j]\n",
    "                    \n",
    "        if type(l[i])==tuple:\n",
    "            k = l[i]\n",
    "            for j in range(len(k)):\n",
    "                if type(k[j]) == int:\n",
    "                    m = m*k[j]\n",
    "                    \n",
    "        if type(l[i])==dict:\n",
    "            d = l[i]\n",
    "            \n",
    "            for a in d.keys():\n",
    "                if type(a)==int:\n",
    "                    m = m*i\n",
    "                    \n",
    "            for b in d.values():\n",
    "                \n",
    "                if type(b)==int:\n",
    "                    m = m*i\n",
    "                    \n",
    "                if type(b)==list:\n",
    "                    k = b\n",
    "                    for j in range(len(k)):\n",
    "                        if type(k[j]) == int:\n",
    "                            m = m*k[j]\n",
    "                            \n",
    "                if type(b)==tuple:\n",
    "                    k = b\n",
    "                    for j in range(len(k)):\n",
    "                        if type(k[j]) == int:\n",
    "                            m = m*k[j]\n",
    "    print(m)"
   ]
  },
  {
   "cell_type": "code",
   "execution_count": 3,
   "id": "5b053aed",
   "metadata": {},
   "outputs": [],
   "source": [
    "list1 = [1,2,3,4, [44,55,66, True], False, (34,56,78,89,34), {1,2,3,3,2,1}, {1:34, \"key2\": [55, 67, 78, 89], 4: (45, \n",
    "22, 61, 34)}, [56, 'data science'], 'Machine Learning']"
   ]
  },
  {
   "cell_type": "code",
   "execution_count": 4,
   "id": "03b64dd4",
   "metadata": {
    "scrolled": true
   },
   "outputs": [
    {
     "name": "stdout",
     "output_type": "stream",
     "text": [
      "2594328997011504614170253328384000\n"
     ]
    }
   ],
   "source": [
    "mul(list1)"
   ]
  },
  {
   "cell_type": "code",
   "execution_count": 5,
   "id": "876f6753",
   "metadata": {},
   "outputs": [],
   "source": [
    "# Q2. Write a python program for encrypting a message sent to you by your friend. The logic of encryption \n",
    "# should be such that, for a the output should be z. For b, the output should be y. For c, the output should \n",
    "# be x respectively. Also, the whitespace should be replaced with a dollar sign. Keep the punctuation \n",
    "# marks unchanged.\n",
    "\n",
    "\n",
    "# Input Sentence: I want to become a Data Scientist.\n",
    "\n",
    "\n",
    "# Encrypt the above input sentence using the program you just created."
   ]
  },
  {
   "cell_type": "code",
   "execution_count": 6,
   "id": "d5a0c274",
   "metadata": {},
   "outputs": [],
   "source": [
    "import string\n",
    "\n",
    "stri= \"I want to become a Data Scientist.\"\n"
   ]
  },
  {
   "cell_type": "code",
   "execution_count": 7,
   "id": "3534988a",
   "metadata": {},
   "outputs": [
    {
     "data": {
      "text/plain": [
       "'!\"#$%&\\'()*+,-./:;<=>?@[\\\\]^_`{|}~'"
      ]
     },
     "execution_count": 7,
     "metadata": {},
     "output_type": "execute_result"
    }
   ],
   "source": [
    "string.punctuation"
   ]
  },
  {
   "cell_type": "code",
   "execution_count": 8,
   "id": "a60b5ea4",
   "metadata": {},
   "outputs": [],
   "source": [
    "def en(s):\n",
    "    st = s.lower()\n",
    "    l = [\"a\",\"b\",\"c\",\"d\",\"e\",\"f\",\"g\",\"h\",\"i\",\"j\",\"k\",\"l\",\"m\",\"n\",\"o\",\"p\",\"q\",\"r\",\"s\",\"t\",\"u\",\"v\",\"w\",\"x\",\"y\",\"z\"]\n",
    "    \n",
    "    l1 = []\n",
    "    st = st.replace(\" \",\"\")\n",
    "    \n",
    "    for i in st :\n",
    "        if i in string.punctuation:\n",
    "            l1.append(i)\n",
    "            \n",
    "        else:\n",
    "            l1.append(l[(25 -l.index(i))])\n",
    "    print(l1)\n",
    "    a =\"\".join(l1)\n",
    "    return a\n"
   ]
  },
  {
   "cell_type": "code",
   "execution_count": 9,
   "id": "c5344674",
   "metadata": {
    "scrolled": true
   },
   "outputs": [
    {
     "name": "stdout",
     "output_type": "stream",
     "text": [
      "['r', 'd', 'z', 'm', 'g', 'g', 'l', 'y', 'v', 'x', 'l', 'n', 'v', 'z', 'w', 'z', 'g', 'z', 'h', 'x', 'r', 'v', 'm', 'g', 'r', 'h', 'g', '.']\n"
     ]
    },
    {
     "data": {
      "text/plain": [
       "'rdzmgglyvxlnvzwzgzhxrvmgrhg.'"
      ]
     },
     "execution_count": 9,
     "metadata": {},
     "output_type": "execute_result"
    }
   ],
   "source": [
    "en(stri)"
   ]
  },
  {
   "cell_type": "code",
   "execution_count": null,
   "id": "899fab48",
   "metadata": {},
   "outputs": [],
   "source": []
  }
 ],
 "metadata": {
  "kernelspec": {
   "display_name": "Python 3 (ipykernel)",
   "language": "python",
   "name": "python3"
  },
  "language_info": {
   "codemirror_mode": {
    "name": "ipython",
    "version": 3
   },
   "file_extension": ".py",
   "mimetype": "text/x-python",
   "name": "python",
   "nbconvert_exporter": "python",
   "pygments_lexer": "ipython3",
   "version": "3.9.7"
  }
 },
 "nbformat": 4,
 "nbformat_minor": 5
}
